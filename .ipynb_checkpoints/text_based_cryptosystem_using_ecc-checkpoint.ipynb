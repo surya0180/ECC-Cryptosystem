{
 "cells": [
  {
   "cell_type": "markdown",
   "id": "a5cea7dd",
   "metadata": {},
   "source": [
    "a, b, p are given parameters\n",
    "first construct genPoints."
   ]
  },
  {
   "cell_type": "code",
   "execution_count": 21,
   "id": "ff86a607",
   "metadata": {},
   "outputs": [],
   "source": [
    "import random"
   ]
  },
  {
   "cell_type": "code",
   "execution_count": 2,
   "id": "02239094",
   "metadata": {},
   "outputs": [],
   "source": [
    "def finite_field(p):\n",
    "    return [x for x in range(p)]"
   ]
  },
  {
   "cell_type": "code",
   "execution_count": 12,
   "id": "5ae42204",
   "metadata": {},
   "outputs": [],
   "source": [
    "def mod_sqrt(a, p):\n",
    "\n",
    "    def legendre_symbol(a, p):\n",
    "        ls = pow(a, (p - 1) // 2, p)\n",
    "        return -1 if ls == p - 1 else ls\n",
    "    \n",
    "    if legendre_symbol(a, p) != 1:\n",
    "        return 0\n",
    "    elif a == 0:\n",
    "        return 0\n",
    "    elif p == 2:\n",
    "        return p\n",
    "    elif p % 4 == 3:\n",
    "        return pow(a, (p + 1) // 4, p)\n",
    "\n",
    "    s = p - 1\n",
    "    e = 0\n",
    "    while s % 2 == 0:\n",
    "        s //= 2\n",
    "        e += 1\n",
    "\n",
    "    n = 2\n",
    "    while legendre_symbol(n, p) != -1:\n",
    "        n += 1\n",
    "\n",
    "    x = pow(a, (s + 1) // 2, p)\n",
    "    b = pow(a, s, p)\n",
    "    g = pow(n, s, p)\n",
    "    r = e\n",
    "\n",
    "    while True:\n",
    "        t = b\n",
    "        m = 0\n",
    "        for m in range(r):\n",
    "            if t == 1:\n",
    "                break\n",
    "            t = pow(t, 2, p)\n",
    "\n",
    "        if m == 0:\n",
    "            return x\n",
    "\n",
    "        gs = pow(g, 2 ** (r - m - 1), p)\n",
    "        g = (gs * gs) % p\n",
    "        x = (x * gs) % p\n",
    "        b = (b * g) % p\n",
    "        r = m"
   ]
  },
  {
   "cell_type": "code",
   "execution_count": 13,
   "id": "4e0f7359",
   "metadata": {},
   "outputs": [],
   "source": [
    "def generate_points(a, b, p):\n",
    "    points = []\n",
    "    x = 0\n",
    "    while(x < p):\n",
    "        y = ( pow(x, 3) + a*x + b ) % p\n",
    "        if mod_root(y, p) != 0 and y in GF(p):\n",
    "            points.append((x, mod_sqrt(y, p)))\n",
    "            points.append((x, -mod_sqrt(y, p) % p))\n",
    "        x = x + 1\n",
    "    return points\n",
    "        "
   ]
  },
  {
   "cell_type": "code",
   "execution_count": 15,
   "id": "048a15b2",
   "metadata": {},
   "outputs": [],
   "source": [
    "def base_point(p):\n",
    "    if p[0][1] > p[1][1]:\n",
    "        return p[1]\n",
    "    else:\n",
    "        return p[0]"
   ]
  },
  {
   "cell_type": "code",
   "execution_count": 19,
   "id": "963e4952",
   "metadata": {},
   "outputs": [],
   "source": [
    "def primitive_point():\n",
    "    return random.choice(affine_points)"
   ]
  },
  {
   "cell_type": "code",
   "execution_count": 25,
   "id": "b3d0ab56",
   "metadata": {},
   "outputs": [],
   "source": [
    "def random_k(p):\n",
    "    return random.randint(0, p - 1)"
   ]
  },
  {
   "cell_type": "code",
   "execution_count": null,
   "id": "989d16d9",
   "metadata": {},
   "outputs": [],
   "source": [
    "#def point_addition(G, k):"
   ]
  },
  {
   "cell_type": "markdown",
   "id": "3d0ab917",
   "metadata": {},
   "source": [
    "* G is the base point\n",
    "* Pm is any random affine point for the given EC\n",
    "* random integer k, choosen at random < p\n",
    "* kG is evaluated using addition\n",
    "* nb is the secret key of host B, generated randomly < p\n",
    "* Pb is the public key of host B, Pb = nb*G\n"
   ]
  },
  {
   "cell_type": "code",
   "execution_count": null,
   "id": "bf66f0e3",
   "metadata": {},
   "outputs": [],
   "source": []
  }
 ],
 "metadata": {
  "kernelspec": {
   "display_name": "Python 3 (ipykernel)",
   "language": "python",
   "name": "python3"
  },
  "language_info": {
   "codemirror_mode": {
    "name": "ipython",
    "version": 3
   },
   "file_extension": ".py",
   "mimetype": "text/x-python",
   "name": "python",
   "nbconvert_exporter": "python",
   "pygments_lexer": "ipython3",
   "version": "3.8.4"
  }
 },
 "nbformat": 4,
 "nbformat_minor": 5
}
