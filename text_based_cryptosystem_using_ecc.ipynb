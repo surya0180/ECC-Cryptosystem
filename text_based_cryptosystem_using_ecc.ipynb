{
 "cells": [
  {
   "cell_type": "markdown",
   "id": "a5cea7dd",
   "metadata": {},
   "source": [
    "a, b, p are given parameters\n",
    "first construct genPoints."
   ]
  },
  {
   "cell_type": "code",
   "execution_count": 12,
   "id": "02239094",
   "metadata": {},
   "outputs": [],
   "source": [
    "def GF(p):\n",
    "    return [x for x in range(p)]"
   ]
  },
  {
   "cell_type": "code",
   "execution_count": 13,
   "id": "5ae42204",
   "metadata": {},
   "outputs": [],
   "source": [
    "def modular_sqrt(a, p):\n",
    "\n",
    "    def legendre_symbol(a, p):\n",
    "        ls = pow(a, (p - 1) // 2, p)\n",
    "        return -1 if ls == p - 1 else ls\n",
    "    \n",
    "    if legendre_symbol(a, p) != 1:\n",
    "        return 0\n",
    "    elif a == 0:\n",
    "        return 0\n",
    "    elif p == 2:\n",
    "        return p\n",
    "    elif p % 4 == 3:\n",
    "        return pow(a, (p + 1) // 4, p)\n",
    "\n",
    "    s = p - 1\n",
    "    e = 0\n",
    "    while s % 2 == 0:\n",
    "        s //= 2\n",
    "        e += 1\n",
    "\n",
    "    n = 2\n",
    "    while legendre_symbol(n, p) != -1:\n",
    "        n += 1\n",
    "\n",
    "    x = pow(a, (s + 1) // 2, p)\n",
    "    b = pow(a, s, p)\n",
    "    g = pow(n, s, p)\n",
    "    r = e\n",
    "\n",
    "    while True:\n",
    "        t = b\n",
    "        m = 0\n",
    "        for m in range(r):\n",
    "            if t == 1:\n",
    "                break\n",
    "            t = pow(t, 2, p)\n",
    "\n",
    "        if m == 0:\n",
    "            return x\n",
    "\n",
    "        gs = pow(g, 2 ** (r - m - 1), p)\n",
    "        g = (gs * gs) % p\n",
    "        x = (x * gs) % p\n",
    "        b = (b * g) % p\n",
    "        r = m"
   ]
  },
  {
   "cell_type": "code",
   "execution_count": 14,
   "id": "4e0f7359",
   "metadata": {},
   "outputs": [],
   "source": [
    "def genPoints(a, b, p):\n",
    "    points = []\n",
    "    x = 0\n",
    "    while(x < p):\n",
    "        y = ( pow(x, 3) + a*x + b ) % p\n",
    "        if modular_sqrt(y, p) != 0 and y in GF(p):\n",
    "            points.append((x, modular_sqrt(y, p)))\n",
    "            points.append((x, -modular_sqrt(y, p) % p))\n",
    "        x = x + 1\n",
    "    return points\n",
    "        "
   ]
  },
  {
   "cell_type": "code",
   "execution_count": 15,
   "id": "0bd249e3",
   "metadata": {},
   "outputs": [
    {
     "name": "stdout",
     "output_type": "stream",
     "text": [
      "[(0, 1), (0, 36), (1, 22), (1, 15), (2, 23), (2, 14), (6, 1), (6, 36), (8, 22), (8, 15), (9, 6), (9, 31), (10, 7), (10, 30), (11, 23), (11, 14), (13, 19), (13, 18), (14, 13), (14, 24), (17, 26), (17, 11), (19, 16), (19, 21), (21, 12), (21, 25), (24, 23), (24, 14), (26, 19), (26, 18), (27, 8), (27, 29), (28, 22), (28, 15), (29, 6), (29, 31), (30, 13), (30, 24), (31, 1), (31, 36), (33, 9), (33, 28), (35, 19), (35, 18), (36, 6), (36, 31)]\n"
     ]
    }
   ],
   "source": [
    "print(genPoints(1, 1, 37))"
   ]
  },
  {
   "cell_type": "code",
   "execution_count": null,
   "id": "dc04546a",
   "metadata": {},
   "outputs": [],
   "source": []
  }
 ],
 "metadata": {
  "kernelspec": {
   "display_name": "Python 3 (ipykernel)",
   "language": "python",
   "name": "python3"
  },
  "language_info": {
   "codemirror_mode": {
    "name": "ipython",
    "version": 3
   },
   "file_extension": ".py",
   "mimetype": "text/x-python",
   "name": "python",
   "nbconvert_exporter": "python",
   "pygments_lexer": "ipython3",
   "version": "3.8.4"
  }
 },
 "nbformat": 4,
 "nbformat_minor": 5
}
