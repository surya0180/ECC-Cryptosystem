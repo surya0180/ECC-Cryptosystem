{
 "cells": [
  {
   "cell_type": "markdown",
   "id": "a5cea7dd",
   "metadata": {},
   "source": [
    "a, b, p are given parameters\n",
    "first construct genPoints."
   ]
  },
  {
   "cell_type": "code",
   "execution_count": 15,
   "id": "ff86a607",
   "metadata": {},
   "outputs": [],
   "source": [
    "import random"
   ]
  },
  {
   "cell_type": "code",
   "execution_count": 16,
   "id": "02239094",
   "metadata": {},
   "outputs": [],
   "source": [
    "def finite_field(p):\n",
    "    return [x for x in range(p)]"
   ]
  },
  {
   "cell_type": "code",
   "execution_count": 17,
   "id": "7ac6d62d",
   "metadata": {},
   "outputs": [],
   "source": [
    "def mod_inverse(k, p):\n",
    "     \n",
    "    \"\"\"Returns the inverse of k modulo p.\n",
    "    This function returns the only integer x such that (x * k) % p == 1.\n",
    "    k must be non-zero and p must be a prime.\n",
    "    \"\"\"\n",
    "    if k == 0:\n",
    "        raise ZeroDivisionError('division by zero')\n",
    "\n",
    "    if k < 0:\n",
    "        # k ** -1 = p - (-k) ** -1  (mod p)\n",
    "        return p - mod_inverse(-k, p)\n",
    "\n",
    "    # Extended Euclidean algorithm.\n",
    "    s, old_s = 0, 1\n",
    "    t, old_t = 1, 0\n",
    "    r, old_r = p, k\n",
    "\n",
    "    while r != 0:\n",
    "        quotient = old_r // r\n",
    "        old_r, r = r, old_r - quotient * r\n",
    "        old_s, s = s, old_s - quotient * s\n",
    "        old_t, t = t, old_t - quotient * t\n",
    "\n",
    "    gcd, x, y = old_r, old_s, old_t\n",
    "\n",
    "    assert gcd == 1\n",
    "    assert (k * x) % p == 1\n",
    "\n",
    "    return x % p"
   ]
  },
  {
   "cell_type": "code",
   "execution_count": 18,
   "id": "5ae42204",
   "metadata": {},
   "outputs": [],
   "source": [
    "def mod_sqrt(a, p):\n",
    "\n",
    "    def legendre_symbol(a, p):\n",
    "        ls = pow(a, (p - 1) // 2, p)\n",
    "        return -1 if ls == p - 1 else ls\n",
    "    \n",
    "    if legendre_symbol(a, p) != 1:\n",
    "        return 0\n",
    "    elif a == 0:\n",
    "        return 0\n",
    "    elif p == 2:\n",
    "        return p\n",
    "    elif p % 4 == 3:\n",
    "        return pow(a, (p + 1) // 4, p)\n",
    "\n",
    "    s = p - 1\n",
    "    e = 0\n",
    "    while s % 2 == 0:\n",
    "        s //= 2\n",
    "        e += 1\n",
    "\n",
    "    n = 2\n",
    "    while legendre_symbol(n, p) != -1:\n",
    "        n += 1\n",
    "\n",
    "    x = pow(a, (s + 1) // 2, p)\n",
    "    b = pow(a, s, p)\n",
    "    g = pow(n, s, p)\n",
    "    r = e\n",
    "\n",
    "    while True:\n",
    "        t = b\n",
    "        m = 0\n",
    "        for m in range(r):\n",
    "            if t == 1:\n",
    "                break\n",
    "            t = pow(t, 2, p)\n",
    "\n",
    "        if m == 0:\n",
    "            return x\n",
    "\n",
    "        gs = pow(g, 2 ** (r - m - 1), p)\n",
    "        g = (gs * gs) % p\n",
    "        x = (x * gs) % p\n",
    "        b = (b * g) % p\n",
    "        r = m"
   ]
  },
  {
   "cell_type": "code",
   "execution_count": 19,
   "id": "4e0f7359",
   "metadata": {},
   "outputs": [],
   "source": [
    "def generate_points(a, b, p):\n",
    "    points = []\n",
    "    x = 0\n",
    "    while(x < p):\n",
    "        y = ( pow(x, 3) + a*x + b ) % p\n",
    "        if mod_sqrt(y, p) != 0 and y in finite_field(p):\n",
    "            points.append((x, mod_sqrt(y, p)))\n",
    "            points.append((x, -mod_sqrt(y, p) % p))\n",
    "        x = x + 1\n",
    "    return points"
   ]
  },
  {
   "cell_type": "code",
   "execution_count": 20,
   "id": "048a15b2",
   "metadata": {},
   "outputs": [],
   "source": [
    "#returns G\n",
    "def base_point(p):\n",
    "    if p[0][1] > p[1][1]:\n",
    "        return p[1]\n",
    "    else:\n",
    "        return p[0]"
   ]
  },
  {
   "cell_type": "code",
   "execution_count": 21,
   "id": "963e4952",
   "metadata": {},
   "outputs": [],
   "source": [
    "#returns Pm\n",
    "def primitive_point():\n",
    "    return random.choice(affine_points)"
   ]
  },
  {
   "cell_type": "code",
   "execution_count": 22,
   "id": "b3d0ab56",
   "metadata": {},
   "outputs": [],
   "source": [
    "#reurns k\n",
    "def random_generator(p):\n",
    "    return random.randint(0, p - 1)"
   ]
  },
  {
   "cell_type": "code",
   "execution_count": 23,
   "id": "989d16d9",
   "metadata": {},
   "outputs": [],
   "source": [
    "#returns P + Q\n",
    "def point_addition(P, Q, p):\n",
    "    if P is None:\n",
    "        # 0 + point2 = point2\n",
    "        return Q\n",
    "    if Q is None:\n",
    "        # point1 + 0 = point1\n",
    "        return P\n",
    "    if P[0] == Q[0] and P[1] != Q[1]:\n",
    "        # point1 + (-point1) = 0\n",
    "        return None\n",
    "    num = Q[1] - P[1]\n",
    "    den = Q[0] - P[0]\n",
    "    inv_den = mod_inverse(den, p)\n",
    "    slope = (num * inv_den) % p\n",
    "    R = [0, 0]\n",
    "    R[0] = ( pow(slope, 2) - P[0] - Q[0] ) % p\n",
    "    R[1] = ( slope*(P[0] - R[0]) - P[1] ) % p\n",
    "    \n",
    "    return R"
   ]
  },
  {
   "cell_type": "code",
   "execution_count": 24,
   "id": "97672b45",
   "metadata": {},
   "outputs": [],
   "source": [
    "#returns 2P\n",
    "def point_doubling(P, p, a):\n",
    "    if P is None:\n",
    "        return P\n",
    "    if P[1] == 0:\n",
    "        return None\n",
    "    num = 3*pow(P[0], 2) + a\n",
    "    den = 2*P[1]\n",
    "    inv_den = mod_inverse(den, p)\n",
    "    slope = (num * inv_den) % p\n",
    "    R = [0, 0]\n",
    "    R[0] = ( pow(slope, 2) - 2*P[0] ) % p\n",
    "    R[1] = ( slope*(P[0] - R[0]) - P[1] ) % p\n",
    "    \n",
    "    return R"
   ]
  },
  {
   "cell_type": "code",
   "execution_count": 25,
   "id": "eb72d7a9",
   "metadata": {},
   "outputs": [],
   "source": [
    "#returns nP\n",
    "def scalar_mult(k, P, p, a):\n",
    "#     \"\"\"Returns k * point computed using the double and point_add algorithm.\"\"\"\n",
    "#     assert is_on_curve(point)\n",
    "\n",
    "#     if k % curve.n == 0 or point is None:\n",
    "#         return None\n",
    "\n",
    "#     if k < 0:\n",
    "#         # k * point = -k * (-point)\n",
    "#         return scalar_mult(-k, point_neg(point))\n",
    "\n",
    "    result = None\n",
    "    addend = P\n",
    "\n",
    "    while k:\n",
    "        if k & 1:\n",
    "            # Add.\n",
    "            result = point_addition(result, addend, p)\n",
    "\n",
    "        # Double.\n",
    "        addend = point_doubling(addend, p, a)\n",
    "\n",
    "        k >>= 1\n",
    "\n",
    "    return result"
   ]
  },
  {
   "cell_type": "markdown",
   "id": "3d0ab917",
   "metadata": {},
   "source": [
    "* G is the base point\n",
    "* Pm is any random affine point for the given EC\n",
    "* random integer k, choosen at random < p\n",
    "* kG is evaluated using addition\n",
    "* nb is the secret key of host B, generated randomly < p\n",
    "* Pb is the public key of host B, Pb = nb*G\n"
   ]
  },
  {
   "cell_type": "code",
   "execution_count": 26,
   "id": "7bd3c576",
   "metadata": {},
   "outputs": [],
   "source": [
    "def ecc_encrypt(G, Pm, k, a, p, char):\n",
    "    #nb = random_generator(p)\n",
    "    nb = 17\n",
    "    Pb = scalar_mult(nb, G, p, a)\n",
    "    Pml = scalar_mult(ord(char), Pm, p, a)\n",
    "    kPb = scalar_mult(k, Pb, p, a)\n",
    "    Pml_kPb = point_addition(Pml, kPb, p)\n",
    "    kG = scalar_mult(k, G, p, a)\n",
    "    \n",
    "    return [ kG, Pml_kPb ]"
   ]
  },
  {
   "cell_type": "code",
   "execution_count": 27,
   "id": "ecb362da",
   "metadata": {},
   "outputs": [
    {
     "name": "stdout",
     "output_type": "stream",
     "text": [
      "[[0, 1], [30, 24]]\n"
     ]
    }
   ],
   "source": [
    "# Setting up the Elliptic Curve Equation\n",
    "a = 1\n",
    "b = 1\n",
    "p = 37\n",
    "ecc_points = generate_points(a, b, p)\n",
    "G = base_point(ecc_points)\n",
    "#Pm = primitive_point()\n",
    "Pm = [1, 15]\n",
    "#k = random_generator(p)\n",
    "k = 13\n",
    "\n",
    "encrypted_charachter = ecc_encrypt(G, Pm, k, a, p, \"#\")\n",
    "print(encrypted_charachter)"
   ]
  },
  {
   "cell_type": "code",
   "execution_count": 37,
   "id": "7c3b47a6",
   "metadata": {},
   "outputs": [],
   "source": [
    "def point_neg(point, p):\n",
    "    \"\"\"Returns -point.\"\"\"\n",
    "    #assert is_on_curve(point)\n",
    "\n",
    "    if point is None:\n",
    "        # -0 = 0\n",
    "        return None\n",
    "\n",
    "    x, y = point\n",
    "    result = (x, -y % p)\n",
    "\n",
    "    #assert is_on_curve(result)\n",
    "\n",
    "    return result"
   ]
  },
  {
   "cell_type": "code",
   "execution_count": 38,
   "id": "44bca232",
   "metadata": {},
   "outputs": [],
   "source": [
    "def ecc_decrypt(enc_msg, nb, p, a):\n",
    "    kG = enc_msg[0]\n",
    "    Pml_kPb = enc_msg[1]\n",
    "    nbkG = scalar_mult(nb, kG, p, a)\n",
    "    Pml = point_addition(Pml_kPb, point_neg(nbkG, p), p)\n",
    "    return Pml"
   ]
  },
  {
   "cell_type": "code",
   "execution_count": 39,
   "id": "15d41338",
   "metadata": {},
   "outputs": [
    {
     "name": "stdout",
     "output_type": "stream",
     "text": [
      "[2, 14]\n"
     ]
    }
   ],
   "source": [
    "print(ecc_decrypt(encrypted_charachter, 17, 37, 1))"
   ]
  },
  {
   "cell_type": "code",
   "execution_count": null,
   "id": "1ca7a596",
   "metadata": {},
   "outputs": [],
   "source": []
  }
 ],
 "metadata": {
  "kernelspec": {
   "display_name": "Python 3 (ipykernel)",
   "language": "python",
   "name": "python3"
  },
  "language_info": {
   "codemirror_mode": {
    "name": "ipython",
    "version": 3
   },
   "file_extension": ".py",
   "mimetype": "text/x-python",
   "name": "python",
   "nbconvert_exporter": "python",
   "pygments_lexer": "ipython3",
   "version": "3.8.4"
  }
 },
 "nbformat": 4,
 "nbformat_minor": 5
}
